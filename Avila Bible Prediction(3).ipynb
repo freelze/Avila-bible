{
 "cells": [
  {
   "cell_type": "code",
   "execution_count": 6,
   "metadata": {},
   "outputs": [],
   "source": [
    "import numpy as np # linear algebra\n",
    "import pandas as pd # data processing, CSV file I/O (e.g. pd.read_csv)\n",
    "from sklearn.decomposition import PCA\n",
    "#from sklearn.preprocessing import Imputer\n",
    "from sklearn.model_selection import KFold\n",
    "from sklearn import linear_model\n",
    "from sklearn.metrics import make_scorer\n",
    "from sklearn.ensemble import BaggingRegressor\n",
    "from sklearn.ensemble import RandomForestRegressor\n",
    "from sklearn import svm\n",
    "from sklearn.metrics import r2_score\n",
    "from sklearn.ensemble import AdaBoostRegressor\n",
    "from sklearn.model_selection import cross_val_score\n",
    "from sklearn.tree import DecisionTreeRegressor\n",
    "from sklearn.model_selection import GridSearchCV\n",
    "from sklearn.linear_model import Lasso, LassoCV\n",
    "import matplotlib.pyplot as plt\n",
    "import seaborn as sns\n",
    "import warnings\n",
    "from sklearn import ensemble, preprocessing, metrics\n",
    "# data source: http://webuser.unicas.it/fontanella/avila.html"
   ]
  },
  {
   "cell_type": "code",
   "execution_count": 4,
   "metadata": {},
   "outputs": [
    {
     "name": "stdout",
     "output_type": "stream",
     "text": [
      "['F1', 'F2', 'F3', 'F4', 'F5', 'F6', 'F7', 'F8', 'F9', 'F10', 'class']\n"
     ]
    },
    {
     "data": {
      "text/html": [
       "<div>\n",
       "<style scoped>\n",
       "    .dataframe tbody tr th:only-of-type {\n",
       "        vertical-align: middle;\n",
       "    }\n",
       "\n",
       "    .dataframe tbody tr th {\n",
       "        vertical-align: top;\n",
       "    }\n",
       "\n",
       "    .dataframe thead th {\n",
       "        text-align: right;\n",
       "    }\n",
       "</style>\n",
       "<table border=\"1\" class=\"dataframe\">\n",
       "  <thead>\n",
       "    <tr style=\"text-align: right;\">\n",
       "      <th></th>\n",
       "      <th>F1</th>\n",
       "      <th>F2</th>\n",
       "      <th>F3</th>\n",
       "      <th>F4</th>\n",
       "      <th>F5</th>\n",
       "      <th>F6</th>\n",
       "      <th>F7</th>\n",
       "      <th>F8</th>\n",
       "      <th>F9</th>\n",
       "      <th>F10</th>\n",
       "    </tr>\n",
       "  </thead>\n",
       "  <tbody>\n",
       "    <tr>\n",
       "      <th>0</th>\n",
       "      <td>0.266074</td>\n",
       "      <td>-0.165620</td>\n",
       "      <td>0.320980</td>\n",
       "      <td>0.483299</td>\n",
       "      <td>0.172340</td>\n",
       "      <td>0.273364</td>\n",
       "      <td>0.371178</td>\n",
       "      <td>0.929823</td>\n",
       "      <td>0.251173</td>\n",
       "      <td>0.159345</td>\n",
       "    </tr>\n",
       "    <tr>\n",
       "      <th>1</th>\n",
       "      <td>0.130292</td>\n",
       "      <td>0.870736</td>\n",
       "      <td>-3.210528</td>\n",
       "      <td>0.062493</td>\n",
       "      <td>0.261718</td>\n",
       "      <td>1.436060</td>\n",
       "      <td>1.465940</td>\n",
       "      <td>0.636203</td>\n",
       "      <td>0.282354</td>\n",
       "      <td>0.515587</td>\n",
       "    </tr>\n",
       "    <tr>\n",
       "      <th>2</th>\n",
       "      <td>-0.116585</td>\n",
       "      <td>0.069915</td>\n",
       "      <td>0.068476</td>\n",
       "      <td>-0.783147</td>\n",
       "      <td>0.261718</td>\n",
       "      <td>0.439463</td>\n",
       "      <td>-0.081827</td>\n",
       "      <td>-0.888236</td>\n",
       "      <td>-0.123005</td>\n",
       "      <td>0.582939</td>\n",
       "    </tr>\n",
       "    <tr>\n",
       "      <th>3</th>\n",
       "      <td>0.031541</td>\n",
       "      <td>0.297600</td>\n",
       "      <td>-3.210528</td>\n",
       "      <td>-0.583590</td>\n",
       "      <td>-0.721442</td>\n",
       "      <td>-0.307984</td>\n",
       "      <td>0.710932</td>\n",
       "      <td>1.051693</td>\n",
       "      <td>0.594169</td>\n",
       "      <td>-0.533994</td>\n",
       "    </tr>\n",
       "    <tr>\n",
       "      <th>4</th>\n",
       "      <td>0.229043</td>\n",
       "      <td>0.807926</td>\n",
       "      <td>-0.052442</td>\n",
       "      <td>0.082634</td>\n",
       "      <td>0.261718</td>\n",
       "      <td>0.148790</td>\n",
       "      <td>0.635431</td>\n",
       "      <td>0.051062</td>\n",
       "      <td>0.032902</td>\n",
       "      <td>-0.086652</td>\n",
       "    </tr>\n",
       "  </tbody>\n",
       "</table>\n",
       "</div>"
      ],
      "text/plain": [
       "         F1        F2        F3        F4        F5        F6        F7  \\\n",
       "0  0.266074 -0.165620  0.320980  0.483299  0.172340  0.273364  0.371178   \n",
       "1  0.130292  0.870736 -3.210528  0.062493  0.261718  1.436060  1.465940   \n",
       "2 -0.116585  0.069915  0.068476 -0.783147  0.261718  0.439463 -0.081827   \n",
       "3  0.031541  0.297600 -3.210528 -0.583590 -0.721442 -0.307984  0.710932   \n",
       "4  0.229043  0.807926 -0.052442  0.082634  0.261718  0.148790  0.635431   \n",
       "\n",
       "         F8        F9       F10  \n",
       "0  0.929823  0.251173  0.159345  \n",
       "1  0.636203  0.282354  0.515587  \n",
       "2 -0.888236 -0.123005  0.582939  \n",
       "3  1.051693  0.594169 -0.533994  \n",
       "4  0.051062  0.032902 -0.086652  "
      ]
     },
     "execution_count": 4,
     "metadata": {},
     "output_type": "execute_result"
    }
   ],
   "source": [
    "columns = ['F{}'.format(i + 1) for i in range(10)]\n",
    "cols = columns + ['class']\n",
    "print(cols)\n",
    "train_data = pd.read_csv('train.txt', sep=',', header=None, names=cols)\n",
    "test_data = pd.read_csv('test.txt', sep=',', header=None, names=cols)\n",
    "train_X = train_data.drop(\"class\", 1)\n",
    "train_y = train_data['class']\n",
    "test_X = test_data.drop(\"class\", 1)\n",
    "test_y = test_data['class']\n",
    "train_X.head()"
   ]
  },
  {
   "cell_type": "code",
   "execution_count": 120,
   "metadata": {},
   "outputs": [
    {
     "data": {
      "text/html": [
       "<div>\n",
       "<style scoped>\n",
       "    .dataframe tbody tr th:only-of-type {\n",
       "        vertical-align: middle;\n",
       "    }\n",
       "\n",
       "    .dataframe tbody tr th {\n",
       "        vertical-align: top;\n",
       "    }\n",
       "\n",
       "    .dataframe thead th {\n",
       "        text-align: right;\n",
       "    }\n",
       "</style>\n",
       "<table border=\"1\" class=\"dataframe\">\n",
       "  <thead>\n",
       "    <tr style=\"text-align: right;\">\n",
       "      <th></th>\n",
       "      <th>F1</th>\n",
       "      <th>F2</th>\n",
       "      <th>F3</th>\n",
       "      <th>F4</th>\n",
       "      <th>F5</th>\n",
       "      <th>F6</th>\n",
       "      <th>F7</th>\n",
       "      <th>F8</th>\n",
       "      <th>F9</th>\n",
       "      <th>F10</th>\n",
       "    </tr>\n",
       "  </thead>\n",
       "  <tbody>\n",
       "    <tr>\n",
       "      <th>0</th>\n",
       "      <td>-3.498799</td>\n",
       "      <td>0.250492</td>\n",
       "      <td>0.232070</td>\n",
       "      <td>1.224178</td>\n",
       "      <td>-4.922215</td>\n",
       "      <td>1.145386</td>\n",
       "      <td>0.182426</td>\n",
       "      <td>-0.165983</td>\n",
       "      <td>-0.123005</td>\n",
       "      <td>1.087144</td>\n",
       "    </tr>\n",
       "    <tr>\n",
       "      <th>1</th>\n",
       "      <td>0.204355</td>\n",
       "      <td>-0.354049</td>\n",
       "      <td>0.320980</td>\n",
       "      <td>0.410166</td>\n",
       "      <td>-0.989576</td>\n",
       "      <td>-2.218127</td>\n",
       "      <td>0.220177</td>\n",
       "      <td>0.181844</td>\n",
       "      <td>2.090879</td>\n",
       "      <td>-2.009758</td>\n",
       "    </tr>\n",
       "    <tr>\n",
       "      <th>2</th>\n",
       "      <td>0.759828</td>\n",
       "      <td>-1.304042</td>\n",
       "      <td>-0.023991</td>\n",
       "      <td>-0.973663</td>\n",
       "      <td>-0.006417</td>\n",
       "      <td>-0.349509</td>\n",
       "      <td>-0.421580</td>\n",
       "      <td>-0.450127</td>\n",
       "      <td>0.469443</td>\n",
       "      <td>0.060952</td>\n",
       "    </tr>\n",
       "    <tr>\n",
       "      <th>3</th>\n",
       "      <td>-0.005490</td>\n",
       "      <td>0.360409</td>\n",
       "      <td>0.281860</td>\n",
       "      <td>-0.213479</td>\n",
       "      <td>-1.168333</td>\n",
       "      <td>-1.013906</td>\n",
       "      <td>-0.346080</td>\n",
       "      <td>1.176165</td>\n",
       "      <td>0.968347</td>\n",
       "      <td>-0.627999</td>\n",
       "    </tr>\n",
       "    <tr>\n",
       "      <th>4</th>\n",
       "      <td>0.080916</td>\n",
       "      <td>0.101320</td>\n",
       "      <td>0.104040</td>\n",
       "      <td>0.140490</td>\n",
       "      <td>0.261718</td>\n",
       "      <td>0.480988</td>\n",
       "      <td>0.710932</td>\n",
       "      <td>-0.253430</td>\n",
       "      <td>-0.497183</td>\n",
       "      <td>0.155681</td>\n",
       "    </tr>\n",
       "    <tr>\n",
       "      <th>...</th>\n",
       "      <td>...</td>\n",
       "      <td>...</td>\n",
       "      <td>...</td>\n",
       "      <td>...</td>\n",
       "      <td>...</td>\n",
       "      <td>...</td>\n",
       "      <td>...</td>\n",
       "      <td>...</td>\n",
       "      <td>...</td>\n",
       "      <td>...</td>\n",
       "    </tr>\n",
       "    <tr>\n",
       "      <th>10432</th>\n",
       "      <td>-0.128929</td>\n",
       "      <td>-0.040001</td>\n",
       "      <td>0.057807</td>\n",
       "      <td>0.557894</td>\n",
       "      <td>0.261718</td>\n",
       "      <td>-0.930856</td>\n",
       "      <td>-0.044076</td>\n",
       "      <td>1.158458</td>\n",
       "      <td>2.277968</td>\n",
       "      <td>-0.699884</td>\n",
       "    </tr>\n",
       "    <tr>\n",
       "      <th>10433</th>\n",
       "      <td>0.266074</td>\n",
       "      <td>0.556689</td>\n",
       "      <td>-0.020434</td>\n",
       "      <td>0.176624</td>\n",
       "      <td>0.261718</td>\n",
       "      <td>-0.515608</td>\n",
       "      <td>0.597681</td>\n",
       "      <td>0.178349</td>\n",
       "      <td>0.625350</td>\n",
       "      <td>-0.657245</td>\n",
       "    </tr>\n",
       "    <tr>\n",
       "      <th>10434</th>\n",
       "      <td>-0.054866</td>\n",
       "      <td>0.580242</td>\n",
       "      <td>0.032912</td>\n",
       "      <td>-0.016668</td>\n",
       "      <td>0.261718</td>\n",
       "      <td>1.519109</td>\n",
       "      <td>0.371178</td>\n",
       "      <td>-0.985508</td>\n",
       "      <td>-0.403638</td>\n",
       "      <td>1.276301</td>\n",
       "    </tr>\n",
       "    <tr>\n",
       "      <th>10435</th>\n",
       "      <td>0.080916</td>\n",
       "      <td>0.588093</td>\n",
       "      <td>0.015130</td>\n",
       "      <td>0.002250</td>\n",
       "      <td>0.261718</td>\n",
       "      <td>-0.930856</td>\n",
       "      <td>-0.270579</td>\n",
       "      <td>0.163807</td>\n",
       "      <td>-0.091823</td>\n",
       "      <td>-0.593329</td>\n",
       "    </tr>\n",
       "    <tr>\n",
       "      <th>10436</th>\n",
       "      <td>0.377169</td>\n",
       "      <td>0.014957</td>\n",
       "      <td>0.381439</td>\n",
       "      <td>0.292753</td>\n",
       "      <td>0.261718</td>\n",
       "      <td>-1.470679</td>\n",
       "      <td>-0.006326</td>\n",
       "      <td>-0.494919</td>\n",
       "      <td>-0.247731</td>\n",
       "      <td>-1.212974</td>\n",
       "    </tr>\n",
       "  </tbody>\n",
       "</table>\n",
       "<p>10437 rows × 10 columns</p>\n",
       "</div>"
      ],
      "text/plain": [
       "             F1        F2        F3        F4        F5        F6        F7  \\\n",
       "0     -3.498799  0.250492  0.232070  1.224178 -4.922215  1.145386  0.182426   \n",
       "1      0.204355 -0.354049  0.320980  0.410166 -0.989576 -2.218127  0.220177   \n",
       "2      0.759828 -1.304042 -0.023991 -0.973663 -0.006417 -0.349509 -0.421580   \n",
       "3     -0.005490  0.360409  0.281860 -0.213479 -1.168333 -1.013906 -0.346080   \n",
       "4      0.080916  0.101320  0.104040  0.140490  0.261718  0.480988  0.710932   \n",
       "...         ...       ...       ...       ...       ...       ...       ...   \n",
       "10432 -0.128929 -0.040001  0.057807  0.557894  0.261718 -0.930856 -0.044076   \n",
       "10433  0.266074  0.556689 -0.020434  0.176624  0.261718 -0.515608  0.597681   \n",
       "10434 -0.054866  0.580242  0.032912 -0.016668  0.261718  1.519109  0.371178   \n",
       "10435  0.080916  0.588093  0.015130  0.002250  0.261718 -0.930856 -0.270579   \n",
       "10436  0.377169  0.014957  0.381439  0.292753  0.261718 -1.470679 -0.006326   \n",
       "\n",
       "             F8        F9       F10  \n",
       "0     -0.165983 -0.123005  1.087144  \n",
       "1      0.181844  2.090879 -2.009758  \n",
       "2     -0.450127  0.469443  0.060952  \n",
       "3      1.176165  0.968347 -0.627999  \n",
       "4     -0.253430 -0.497183  0.155681  \n",
       "...         ...       ...       ...  \n",
       "10432  1.158458  2.277968 -0.699884  \n",
       "10433  0.178349  0.625350 -0.657245  \n",
       "10434 -0.985508 -0.403638  1.276301  \n",
       "10435  0.163807 -0.091823 -0.593329  \n",
       "10436 -0.494919 -0.247731 -1.212974  \n",
       "\n",
       "[10437 rows x 10 columns]"
      ]
     },
     "execution_count": 120,
     "metadata": {},
     "output_type": "execute_result"
    }
   ],
   "source": [
    "test_X"
   ]
  },
  {
   "cell_type": "code",
   "execution_count": 14,
   "metadata": {},
   "outputs": [
    {
     "data": {
      "text/plain": [
       "array([[-0.00167443, -0.53062993,  0.51193361,  0.0869066 ],\n",
       "       [ 0.22718639, -0.97629062, -0.75310862,  0.16286783],\n",
       "       [ 0.0122697 , -0.05203046, -0.78944028, -0.41289192],\n",
       "       ...,\n",
       "       [ 0.01388946, -0.30135964, -0.9884815 , -0.50789867],\n",
       "       [ 0.12871184, -1.06429901,  0.48717788,  0.54994577],\n",
       "       [-0.19353536,  0.22086132, -0.28444485, -0.7497933 ]])"
      ]
     },
     "execution_count": 14,
     "metadata": {},
     "output_type": "execute_result"
    }
   ],
   "source": [
    "pca = PCA(n_components=4,whiten=True)\n",
    "pca = pca.fit(train_X)\n",
    "dataPCA = pca.transform(train_X)\n",
    "dataPCA"
   ]
  },
  {
   "cell_type": "code",
   "execution_count": 15,
   "metadata": {},
   "outputs": [
    {
     "data": {
      "image/png": "[encoded data removed]",
      "text/plain": [
       "<Figure size 432x288 with 1 Axes>"
      ]
     },
     "metadata": {
      "needs_background": "light"
     },
     "output_type": "display_data"
    }
   ],
   "source": [
    "percent_variance = np.round(pca.explained_variance_ratio_* 100, decimals =2)\n",
    "columns = ['PC1', 'PC2', 'PC3', 'PC4']\n",
    "plt.bar(x= range(1,5), height=percent_variance, tick_label=columns)\n",
    "plt.ylabel('Percentate of Variance Explained')\n",
    "plt.xlabel('Principal Component')\n",
    "plt.title('PCA Scree Plot')\n",
    "plt.show()"
   ]
  },
  {
   "cell_type": "code",
   "execution_count": 21,
   "metadata": {},
   "outputs": [
    {
     "name": "stdout",
     "output_type": "stream",
     "text": [
      "0.5030181086519114\n"
     ]
    }
   ],
   "source": [
    "from sklearn.ensemble import RandomForestClassifier\n",
    "from sklearn import ensemble, preprocessing, metrics\n",
    "forest = RandomForestClassifier(max_depth=2, random_state=0)\n",
    "forest.fit(train_X,train_y)\n",
    "forest_fit = forest.fit(data, train_data['class'])\n",
    "test_y_predicted = forest.predict(test_X)\n",
    "accuracy = metrics.accuracy_score(test_y, test_y_predicted)\n",
    "print(accuracy)"
   ]
  },
  {
   "cell_type": "code",
   "execution_count": 33,
   "metadata": {},
   "outputs": [
    {
     "name": "stdout",
     "output_type": "stream",
     "text": [
      "0.5030181086519114\n"
     ]
    }
   ],
   "source": [
    "# PCA version\n",
    "from sklearn.ensemble import RandomForestClassifier\n",
    "from sklearn import ensemble, preprocessing, metrics\n",
    "forest = RandomForestClassifier(max_depth=2, random_state=0)\n",
    "forest.fit(dataPCA,train_y)\n",
    "forest_fit = forest.fit(data, train_data['class'])\n",
    "test_y_predicted = forest.predict(test_X)\n",
    "accuracy = metrics.accuracy_score(test_y, test_y_predicted)\n",
    "print(accuracy)"
   ]
  },
  {
   "cell_type": "code",
   "execution_count": 134,
   "metadata": {},
   "outputs": [
    {
     "name": "stdout",
     "output_type": "stream",
     "text": [
      "0.7578806170355467\n"
     ]
    }
   ],
   "source": [
    "from sklearn.neighbors import KNeighborsClassifier\n",
    "neigh = KNeighborsClassifier(n_neighbors=3)\n",
    "neigh.fit(train_X, train_y)\n",
    "test_y_predicted = neigh.predict(test_X)\n",
    "accuracy = metrics.accuracy_score(test_y, test_y_predicted)\n",
    "print(accuracy)"
   ]
  },
  {
   "cell_type": "code",
   "execution_count": 36,
   "metadata": {},
   "outputs": [
    {
     "data": {
      "text/plain": [
       "10430"
      ]
     },
     "execution_count": 36,
     "metadata": {},
     "output_type": "execute_result"
    }
   ],
   "source": [
    "len(train_y)"
   ]
  },
  {
   "cell_type": "code",
   "execution_count": 163,
   "metadata": {},
   "outputs": [
    {
     "name": "stdout",
     "output_type": "stream",
     "text": [
      "0.4781067356520073\n"
     ]
    }
   ],
   "source": [
    "from sklearn.linear_model import RidgeClassifier\n",
    "clf = RidgeClassifier().fit(train_X, train_y)\n",
    "test_y_predicted = clf.predict(test_X)\n",
    "accuracy = metrics.accuracy_score(test_y, test_y_predicted)\n",
    "print(accuracy)"
   ]
  },
  {
   "cell_type": "code",
   "execution_count": 165,
   "metadata": {},
   "outputs": [
    {
     "name": "stdout",
     "output_type": "stream",
     "text": [
      "0.5607933314170739\n"
     ]
    },
    {
     "name": "stderr",
     "output_type": "stream",
     "text": [
      "C:\\Anaconda\\lib\\site-packages\\sklearn\\linear_model\\_logistic.py:940: ConvergenceWarning: lbfgs failed to converge (status=1):\n",
      "STOP: TOTAL NO. of ITERATIONS REACHED LIMIT.\n",
      "\n",
      "Increase the number of iterations (max_iter) or scale the data as shown in:\n",
      "    https://scikit-learn.org/stable/modules/preprocessing.html\n",
      "Please also refer to the documentation for alternative solver options:\n",
      "    https://scikit-learn.org/stable/modules/linear_model.html#logistic-regression\n",
      "  extra_warning_msg=_LOGISTIC_SOLVER_CONVERGENCE_MSG)\n"
     ]
    }
   ],
   "source": [
    "from sklearn.linear_model import LogisticRegression\n",
    "clf = LogisticRegression(random_state=0,multi_class = 'multinomial').fit(train_X, train_y)\n",
    "test_y_predicted = clf.predict(test_X)\n",
    "accuracy = metrics.accuracy_score(test_y, test_y_predicted)\n",
    "print(accuracy)"
   ]
  },
  {
   "cell_type": "code",
   "execution_count": 166,
   "metadata": {},
   "outputs": [
    {
     "name": "stdout",
     "output_type": "stream",
     "text": [
      "0.8049247868161349\n"
     ]
    },
    {
     "name": "stderr",
     "output_type": "stream",
     "text": [
      "C:\\Anaconda\\lib\\site-packages\\sklearn\\neural_network\\_multilayer_perceptron.py:571: ConvergenceWarning: Stochastic Optimizer: Maximum iterations (300) reached and the optimization hasn't converged yet.\n",
      "  % self.max_iter, ConvergenceWarning)\n"
     ]
    }
   ],
   "source": [
    "from sklearn.neural_network import MLPClassifier\n",
    "clf = MLPClassifier(random_state=1, max_iter=300).fit(train_X, train_y)\n",
    "test_y_predicted = clf.predict(test_X)\n",
    "accuracy = metrics.accuracy_score(test_y, test_y_predicted)\n",
    "print(accuracy)"
   ]
  },
  {
   "cell_type": "code",
   "execution_count": 168,
   "metadata": {},
   "outputs": [
    {
     "name": "stdout",
     "output_type": "stream",
     "text": [
      "0.5041678643288301\n"
     ]
    }
   ],
   "source": [
    "from sklearn.naive_bayes import BernoulliNB\n",
    "clf = BernoulliNB().fit(train_X, train_y)\n",
    "test_y_predicted = clf.predict(test_X)\n",
    "accuracy = metrics.accuracy_score(test_y, test_y_predicted)\n",
    "print(accuracy)"
   ]
  },
  {
   "cell_type": "code",
   "execution_count": 170,
   "metadata": {},
   "outputs": [
    {
     "name": "stdout",
     "output_type": "stream",
     "text": [
      "0.5041678643288301\n"
     ]
    }
   ],
   "source": [
    "from sklearn.ensemble import BaggingClassifier\n",
    "from sklearn.tree import ExtraTreeClassifier\n",
    "\n",
    "extra_tree = ExtraTreeClassifier(random_state=0)\n",
    "cls = BaggingClassifier(extra_tree, random_state=0).fit(train_X, train_y)\n",
    "cls.score(test_X, test_y)\n",
    "accuracy = metrics.accuracy_score(test_y, test_y_predicted)\n",
    "print(accuracy)"
   ]
  },
  {
   "cell_type": "code",
   "execution_count": 124,
   "metadata": {},
   "outputs": [
    {
     "name": "stdout",
     "output_type": "stream",
     "text": [
      "0.32106927277953434\n"
     ]
    }
   ],
   "source": [
    "# PCA\n",
    "from sklearn.neighbors import KNeighborsClassifier\n",
    "\n",
    "pca = PCA(n_components=1,whiten=True)\n",
    "pca = pca.fit(train_X)\n",
    "dataPCA = pca.transform(train_X)\n",
    "\n",
    "neigh = KNeighborsClassifier(n_neighbors=3)\n",
    "neigh.fit(dataPCA, train_y)\n",
    "\n",
    "pca = PCA(n_components=1,whiten=True)\n",
    "pca = pca.fit(test_X)\n",
    "test_X_PCA = pca.transform(test_X)\n",
    "test_y_predicted = neigh.predict(test_X_PCA)\n",
    "accuracy = metrics.accuracy_score(test_y, test_y_predicted)\n",
    "print(accuracy)"
   ]
  },
  {
   "cell_type": "code",
   "execution_count": 24,
   "metadata": {},
   "outputs": [
    {
     "name": "stdout",
     "output_type": "stream",
     "text": [
      "0.6745233304589442\n"
     ]
    }
   ],
   "source": [
    "from sklearn.svm import SVC\n",
    "clf = svm.SVC()\n",
    "clf.fit(train_X, train_y)\n",
    "test_y_predicted = clf.predict(test_X)\n",
    "accuracy = metrics.accuracy_score(test_y, test_y_predicted)\n",
    "print(accuracy)"
   ]
  },
  {
   "cell_type": "code",
   "execution_count": 38,
   "metadata": {},
   "outputs": [
    {
     "name": "stdout",
     "output_type": "stream",
     "text": [
      "0.3988694069176967\n"
     ]
    }
   ],
   "source": [
    "#PCA\n",
    "from sklearn.svm import SVC\n",
    "clf = svm.SVC()\n",
    "clf.fit(dataPCA, train_y)\n",
    "\n",
    "pca = PCA(n_components=4,whiten=True)\n",
    "pca = pca.fit(test_X)\n",
    "test_X_pca = pca.transform(test_X)\n",
    "test_y_predicted = clf.predict(test_X_pca)\n",
    "accuracy = metrics.accuracy_score(test_y, test_y_predicted)\n",
    "print(accuracy)"
   ]
  },
  {
   "cell_type": "code",
   "execution_count": null,
   "metadata": {},
   "outputs": [],
   "source": []
  },
  {
   "cell_type": "code",
   "execution_count": 7,
   "metadata": {},
   "outputs": [
    {
     "name": "stdout",
     "output_type": "stream",
     "text": [
      "0.998275366484622\n"
     ]
    }
   ],
   "source": [
    "\n",
    "from xgboost import XGBClassifier\n",
    "clf = XGBClassifier().fit(train_X, train_y)\n",
    "test_y_predicted = clf.predict(test_X)\n",
    "accuracy = metrics.accuracy_score(test_y, test_y_predicted)\n",
    "print(accuracy)"
   ]
  },
  {
   "cell_type": "code",
   "execution_count": 159,
   "metadata": {},
   "outputs": [
    {
     "name": "stdout",
     "output_type": "stream",
     "text": [
      "[0.18572127 0.13682749 0.13371931 0.13074123 0.14342171 0.04737169\n",
      " 0.04595963 0.04013857 0.09460022 0.04149887]\n",
      "(10430, 5)\n",
      "0.49851489891731343\n"
     ]
    }
   ],
   "source": [
    "import pandas as pd\n",
    "\n",
    "from sklearn.ensemble import ExtraTreesClassifier\n",
    "from sklearn.feature_selection import SelectFromModel\n",
    "from sklearn.ensemble import RandomForestClassifier\n",
    "\n",
    "\n",
    "clf = ExtraTreesClassifier()\n",
    "clf = clf.fit(train_X, train_y)\n",
    "print(clf.feature_importances_)\n",
    "\n",
    "model = SelectFromModel(clf, prefit=True)\n",
    "X_new = model.transform(train_X)\n",
    "X_important_test = model.transform(test_X)\n",
    "\n",
    "print(X_new.shape)\n",
    "from sklearn import tree\n",
    "tree = RandomForestClassifier(max_depth=2, random_state=0)\n",
    "tree = tree.fit(X_new, train_y)\n",
    "test_y_predicted = tree.predict(X_important_test)\n",
    "accuracy = metrics.accuracy_score(test_y, test_y_predicted)\n",
    "print(accuracy)"
   ]
  },
  {
   "cell_type": "code",
   "execution_count": 14,
   "metadata": {},
   "outputs": [
    {
     "name": "stdout",
     "output_type": "stream",
     "text": [
      "[0.18343299 0.13500215 0.1365464  0.13114955 0.14454161 0.04621982\n",
      " 0.04366726 0.03966824 0.09780448 0.04196751]\n",
      "(10430, 5)\n",
      "0.9992334962153876\n"
     ]
    },
    {
     "data": {
      "text/plain": [
       "array([[4282,    2,    2,    0,    0,    0,    0,    0,    0,    0,    0,\n",
       "           0],\n",
       "       [   0,    5,    0,    0,    0,    0,    0,    0,    0,    0,    0,\n",
       "           0],\n",
       "       [   0,    0,  103,    0,    0,    0,    0,    0,    0,    0,    0,\n",
       "           0],\n",
       "       [   0,    0,    0,  353,    0,    0,    0,    0,    0,    0,    0,\n",
       "           0],\n",
       "       [   0,    0,    0,    0, 1095,    0,    0,    0,    0,    0,    0,\n",
       "           0],\n",
       "       [   0,    0,    0,    0,    0, 1962,    0,    0,    0,    0,    0,\n",
       "           0],\n",
       "       [   0,    0,    0,    0,    0,    0,  447,    0,    0,    0,    0,\n",
       "           0],\n",
       "       [   0,    0,    3,    0,    0,    0,    0,  517,    0,    0,    0,\n",
       "           0],\n",
       "       [   0,    0,    0,    0,    0,    0,    0,    0,  832,    0,    0,\n",
       "           0],\n",
       "       [   0,    0,    0,    0,    0,    0,    0,    0,    0,   45,    0,\n",
       "           0],\n",
       "       [   0,    0,    0,    0,    0,    0,    0,    0,    0,    0,  522,\n",
       "           0],\n",
       "       [   0,    0,    0,    0,    0,    0,    0,    0,    0,    0,    1,\n",
       "         266]], dtype=int64)"
      ]
     },
     "execution_count": 14,
     "metadata": {},
     "output_type": "execute_result"
    }
   ],
   "source": [
    "import pandas as pd\n",
    "from sklearn import tree\n",
    "from sklearn.ensemble import ExtraTreesClassifier\n",
    "from sklearn.feature_selection import SelectFromModel\n",
    "\n",
    "\n",
    "clf = ExtraTreesClassifier()\n",
    "clf = clf.fit(train_X, train_y)\n",
    "print(clf.feature_importances_)\n",
    "importances = clf.feature_importances_\n",
    "model = SelectFromModel(clf, prefit=True)\n",
    "X_new = model.transform(train_X)\n",
    "X_important_test = model.transform(test_X)\n",
    "\n",
    "print(X_new.shape)\n",
    "from sklearn import tree\n",
    "tree_ = tree.DecisionTreeClassifier().fit(X_new, train_y)\n",
    "test_y_predicted = tree_.predict(X_important_test)\n",
    "accuracy = metrics.accuracy_score(test_y, test_y_predicted)\n",
    "print(accuracy)\n",
    "\n",
    "from sklearn.metrics import confusion_matrix\n",
    "confusion_matrix(test_y, test_y_predicted)"
   ]
  },
  {
   "cell_type": "code",
   "execution_count": 35,
   "metadata": {},
   "outputs": [
    {
     "name": "stdout",
     "output_type": "stream",
     "text": [
      "(10430, 10)\n",
      "0.9679026540193543\n"
     ]
    },
    {
     "data": {
      "text/plain": [
       "array([[4196,    0,    3,    1,   19,   29,    2,   24,    5,    3,    3,\n",
       "           1],\n",
       "       [   0,    5,    0,    0,    0,    0,    0,    0,    0,    0,    0,\n",
       "           0],\n",
       "       [   3,    0,  100,    0,    0,    0,    0,    0,    0,    0,    0,\n",
       "           0],\n",
       "       [   0,    0,    0,  340,   13,    0,    0,    0,    0,    0,    0,\n",
       "           0],\n",
       "       [  16,    0,    0,   14, 1029,    3,    2,    8,    1,    0,   19,\n",
       "           3],\n",
       "       [  33,    0,    2,    2,    3, 1909,    8,    3,    2,    0,    0,\n",
       "           0],\n",
       "       [   3,    0,    0,    0,    4,   11,  429,    0,    0,    0,    0,\n",
       "           0],\n",
       "       [  10,    0,    3,    0,    2,    0,    2,  501,    2,    0,    0,\n",
       "           0],\n",
       "       [  12,    0,    0,    0,    1,    0,    0,    0,  817,    0,    2,\n",
       "           0],\n",
       "       [   0,    0,    0,    0,    0,    0,    0,    0,    0,   42,    3,\n",
       "           0],\n",
       "       [   5,    0,    0,    1,   18,    0,    0,    1,    1,    3,  485,\n",
       "           8],\n",
       "       [   0,    0,    0,    0,    2,    0,    0,    0,    0,    0,   16,\n",
       "         249]], dtype=int64)"
      ]
     },
     "execution_count": 35,
     "metadata": {},
     "output_type": "execute_result"
    }
   ],
   "source": [
    "from sklearn.svm import LinearSVC\n",
    "from sklearn.feature_selection import SelectKBest\n",
    "from sklearn.feature_selection import chi2\n",
    "\n",
    "lsvc = LinearSVC(C=0.01, penalty=\"l1\", dual=False).fit(train_X, train_y)\n",
    "model = SelectFromModel(lsvc, prefit=True)\n",
    "X_new = model.transform(train_X)\n",
    "X_important_test = model.transform(test_X)\n",
    "print(X_new.shape)\n",
    "from sklearn import tree\n",
    "tree_ = tree.DecisionTreeClassifier().fit(X_new, train_y)\n",
    "test_y_predicted = tree_.predict(X_important_test)\n",
    "accuracy = metrics.accuracy_score(test_y, test_y_predicted)\n",
    "print(accuracy)\n",
    "\n",
    "from sklearn.metrics import confusion_matrix\n",
    "confusion_matrix(test_y, test_y_predicted)"
   ]
  },
  {
   "cell_type": "code",
   "execution_count": 37,
   "metadata": {},
   "outputs": [
    {
     "ename": "ValueError",
     "evalue": "Input X must be non-negative.",
     "output_type": "error",
     "traceback": [
      "\u001b[1;31m---------------------------------------------------------------------------\u001b[0m",
      "\u001b[1;31mValueError\u001b[0m                                Traceback (most recent call last)",
      "\u001b[1;32m<ipython-input-37-7f09e0e3fbe6>\u001b[0m in \u001b[0;36m<module>\u001b[1;34m\u001b[0m\n\u001b[0;32m      7\u001b[0m \u001b[1;31m#X_new = model.transform(train_X)\u001b[0m\u001b[1;33m\u001b[0m\u001b[1;33m\u001b[0m\u001b[1;33m\u001b[0m\u001b[0m\n\u001b[0;32m      8\u001b[0m \u001b[1;31m#X_important_test = model.transform(test_X)\u001b[0m\u001b[1;33m\u001b[0m\u001b[1;33m\u001b[0m\u001b[1;33m\u001b[0m\u001b[0m\n\u001b[1;32m----> 9\u001b[1;33m \u001b[0mX_new\u001b[0m \u001b[1;33m=\u001b[0m \u001b[0mSelectKBest\u001b[0m\u001b[1;33m(\u001b[0m\u001b[0mchi2\u001b[0m\u001b[1;33m,\u001b[0m \u001b[0mk\u001b[0m\u001b[1;33m=\u001b[0m\u001b[1;36m2\u001b[0m\u001b[1;33m)\u001b[0m\u001b[1;33m.\u001b[0m\u001b[0mfit_transform\u001b[0m\u001b[1;33m(\u001b[0m\u001b[0mtrain_X\u001b[0m\u001b[1;33m,\u001b[0m \u001b[0mtrain_y\u001b[0m\u001b[1;33m)\u001b[0m\u001b[1;33m\u001b[0m\u001b[1;33m\u001b[0m\u001b[0m\n\u001b[0m\u001b[0;32m     10\u001b[0m \u001b[0mtest_y_predicted\u001b[0m \u001b[1;33m=\u001b[0m \u001b[0mSelectKBest\u001b[0m\u001b[1;33m(\u001b[0m\u001b[0mchi2\u001b[0m\u001b[1;33m,\u001b[0m \u001b[0mk\u001b[0m\u001b[1;33m=\u001b[0m\u001b[1;36m2\u001b[0m\u001b[1;33m)\u001b[0m\u001b[1;33m.\u001b[0m\u001b[0mfit_transform\u001b[0m\u001b[1;33m(\u001b[0m\u001b[0mtest_X\u001b[0m\u001b[1;33m,\u001b[0m \u001b[0mtest_y\u001b[0m\u001b[1;33m)\u001b[0m\u001b[1;33m\u001b[0m\u001b[1;33m\u001b[0m\u001b[0m\n\u001b[0;32m     11\u001b[0m \u001b[0mprint\u001b[0m\u001b[1;33m(\u001b[0m\u001b[0mX_new\u001b[0m\u001b[1;33m.\u001b[0m\u001b[0mshape\u001b[0m\u001b[1;33m)\u001b[0m\u001b[1;33m\u001b[0m\u001b[1;33m\u001b[0m\u001b[0m\n",
      "\u001b[1;32mC:\\Anaconda\\lib\\site-packages\\sklearn\\base.py\u001b[0m in \u001b[0;36mfit_transform\u001b[1;34m(self, X, y, **fit_params)\u001b[0m\n\u001b[0;32m    572\u001b[0m         \u001b[1;32melse\u001b[0m\u001b[1;33m:\u001b[0m\u001b[1;33m\u001b[0m\u001b[1;33m\u001b[0m\u001b[0m\n\u001b[0;32m    573\u001b[0m             \u001b[1;31m# fit method of arity 2 (supervised transformation)\u001b[0m\u001b[1;33m\u001b[0m\u001b[1;33m\u001b[0m\u001b[1;33m\u001b[0m\u001b[0m\n\u001b[1;32m--> 574\u001b[1;33m             \u001b[1;32mreturn\u001b[0m \u001b[0mself\u001b[0m\u001b[1;33m.\u001b[0m\u001b[0mfit\u001b[0m\u001b[1;33m(\u001b[0m\u001b[0mX\u001b[0m\u001b[1;33m,\u001b[0m \u001b[0my\u001b[0m\u001b[1;33m,\u001b[0m \u001b[1;33m**\u001b[0m\u001b[0mfit_params\u001b[0m\u001b[1;33m)\u001b[0m\u001b[1;33m.\u001b[0m\u001b[0mtransform\u001b[0m\u001b[1;33m(\u001b[0m\u001b[0mX\u001b[0m\u001b[1;33m)\u001b[0m\u001b[1;33m\u001b[0m\u001b[1;33m\u001b[0m\u001b[0m\n\u001b[0m\u001b[0;32m    575\u001b[0m \u001b[1;33m\u001b[0m\u001b[0m\n\u001b[0;32m    576\u001b[0m \u001b[1;33m\u001b[0m\u001b[0m\n",
      "\u001b[1;32mC:\\Anaconda\\lib\\site-packages\\sklearn\\feature_selection\\_univariate_selection.py\u001b[0m in \u001b[0;36mfit\u001b[1;34m(self, X, y)\u001b[0m\n\u001b[0;32m    347\u001b[0m \u001b[1;33m\u001b[0m\u001b[0m\n\u001b[0;32m    348\u001b[0m         \u001b[0mself\u001b[0m\u001b[1;33m.\u001b[0m\u001b[0m_check_params\u001b[0m\u001b[1;33m(\u001b[0m\u001b[0mX\u001b[0m\u001b[1;33m,\u001b[0m \u001b[0my\u001b[0m\u001b[1;33m)\u001b[0m\u001b[1;33m\u001b[0m\u001b[1;33m\u001b[0m\u001b[0m\n\u001b[1;32m--> 349\u001b[1;33m         \u001b[0mscore_func_ret\u001b[0m \u001b[1;33m=\u001b[0m \u001b[0mself\u001b[0m\u001b[1;33m.\u001b[0m\u001b[0mscore_func\u001b[0m\u001b[1;33m(\u001b[0m\u001b[0mX\u001b[0m\u001b[1;33m,\u001b[0m \u001b[0my\u001b[0m\u001b[1;33m)\u001b[0m\u001b[1;33m\u001b[0m\u001b[1;33m\u001b[0m\u001b[0m\n\u001b[0m\u001b[0;32m    350\u001b[0m         \u001b[1;32mif\u001b[0m \u001b[0misinstance\u001b[0m\u001b[1;33m(\u001b[0m\u001b[0mscore_func_ret\u001b[0m\u001b[1;33m,\u001b[0m \u001b[1;33m(\u001b[0m\u001b[0mlist\u001b[0m\u001b[1;33m,\u001b[0m \u001b[0mtuple\u001b[0m\u001b[1;33m)\u001b[0m\u001b[1;33m)\u001b[0m\u001b[1;33m:\u001b[0m\u001b[1;33m\u001b[0m\u001b[1;33m\u001b[0m\u001b[0m\n\u001b[0;32m    351\u001b[0m             \u001b[0mself\u001b[0m\u001b[1;33m.\u001b[0m\u001b[0mscores_\u001b[0m\u001b[1;33m,\u001b[0m \u001b[0mself\u001b[0m\u001b[1;33m.\u001b[0m\u001b[0mpvalues_\u001b[0m \u001b[1;33m=\u001b[0m \u001b[0mscore_func_ret\u001b[0m\u001b[1;33m\u001b[0m\u001b[1;33m\u001b[0m\u001b[0m\n",
      "\u001b[1;32mC:\\Anaconda\\lib\\site-packages\\sklearn\\feature_selection\\_univariate_selection.py\u001b[0m in \u001b[0;36mchi2\u001b[1;34m(X, y)\u001b[0m\n\u001b[0;32m    214\u001b[0m     \u001b[0mX\u001b[0m \u001b[1;33m=\u001b[0m \u001b[0mcheck_array\u001b[0m\u001b[1;33m(\u001b[0m\u001b[0mX\u001b[0m\u001b[1;33m,\u001b[0m \u001b[0maccept_sparse\u001b[0m\u001b[1;33m=\u001b[0m\u001b[1;34m'csr'\u001b[0m\u001b[1;33m)\u001b[0m\u001b[1;33m\u001b[0m\u001b[1;33m\u001b[0m\u001b[0m\n\u001b[0;32m    215\u001b[0m     \u001b[1;32mif\u001b[0m \u001b[0mnp\u001b[0m\u001b[1;33m.\u001b[0m\u001b[0many\u001b[0m\u001b[1;33m(\u001b[0m\u001b[1;33m(\u001b[0m\u001b[0mX\u001b[0m\u001b[1;33m.\u001b[0m\u001b[0mdata\u001b[0m \u001b[1;32mif\u001b[0m \u001b[0missparse\u001b[0m\u001b[1;33m(\u001b[0m\u001b[0mX\u001b[0m\u001b[1;33m)\u001b[0m \u001b[1;32melse\u001b[0m \u001b[0mX\u001b[0m\u001b[1;33m)\u001b[0m \u001b[1;33m<\u001b[0m \u001b[1;36m0\u001b[0m\u001b[1;33m)\u001b[0m\u001b[1;33m:\u001b[0m\u001b[1;33m\u001b[0m\u001b[1;33m\u001b[0m\u001b[0m\n\u001b[1;32m--> 216\u001b[1;33m         \u001b[1;32mraise\u001b[0m \u001b[0mValueError\u001b[0m\u001b[1;33m(\u001b[0m\u001b[1;34m\"Input X must be non-negative.\"\u001b[0m\u001b[1;33m)\u001b[0m\u001b[1;33m\u001b[0m\u001b[1;33m\u001b[0m\u001b[0m\n\u001b[0m\u001b[0;32m    217\u001b[0m \u001b[1;33m\u001b[0m\u001b[0m\n\u001b[0;32m    218\u001b[0m     \u001b[0mY\u001b[0m \u001b[1;33m=\u001b[0m \u001b[0mLabelBinarizer\u001b[0m\u001b[1;33m(\u001b[0m\u001b[1;33m)\u001b[0m\u001b[1;33m.\u001b[0m\u001b[0mfit_transform\u001b[0m\u001b[1;33m(\u001b[0m\u001b[0my\u001b[0m\u001b[1;33m)\u001b[0m\u001b[1;33m\u001b[0m\u001b[1;33m\u001b[0m\u001b[0m\n",
      "\u001b[1;31mValueError\u001b[0m: Input X must be non-negative."
     ]
    }
   ],
   "source": [
    "from sklearn.svm import LinearSVC\n",
    "from sklearn.feature_selection import SelectKBest\n",
    "from sklearn.feature_selection import chi2\n",
    "\n",
    "#lsvc = LinearSVC(C=0.01, penalty=\"l1\", dual=False).fit(train_X, train_y)\n",
    "#model = SelectFromModel(lsvc, prefit=True)\n",
    "#X_new = model.transform(train_X)\n",
    "#X_important_test = model.transform(test_X)\n",
    "X_new = SelectKBest(chi2, k=2).fit_transform(train_X, train_y)\n",
    "test_y_predicted = SelectKBest(chi2, k=2).fit_transform(test_X, test_y)\n",
    "print(X_new.shape)\n",
    "from sklearn import tree\n",
    "tree_ = tree.DecisionTreeClassifier().fit(X_new, train_y)\n",
    "test_y_predicted = tree_.predict(X_important_test)\n",
    "accuracy = metrics.accuracy_score(test_y, test_y_predicted)\n",
    "print(accuracy)\n",
    "\n",
    "from sklearn.metrics import confusion_matrix\n",
    "confusion_matrix(test_y, test_y_predicted)"
   ]
  },
  {
   "cell_type": "code",
   "execution_count": 28,
   "metadata": {},
   "outputs": [
    {
     "data": {
      "text/html": [
       "<div>\n",
       "<style scoped>\n",
       "    .dataframe tbody tr th:only-of-type {\n",
       "        vertical-align: middle;\n",
       "    }\n",
       "\n",
       "    .dataframe tbody tr th {\n",
       "        vertical-align: top;\n",
       "    }\n",
       "\n",
       "    .dataframe thead th {\n",
       "        text-align: right;\n",
       "    }\n",
       "</style>\n",
       "<table border=\"1\" class=\"dataframe\">\n",
       "  <thead>\n",
       "    <tr style=\"text-align: right;\">\n",
       "      <th></th>\n",
       "      <th>F1</th>\n",
       "      <th>F2</th>\n",
       "      <th>F3</th>\n",
       "      <th>F4</th>\n",
       "      <th>F5</th>\n",
       "      <th>F6</th>\n",
       "      <th>F7</th>\n",
       "      <th>F8</th>\n",
       "      <th>F9</th>\n",
       "      <th>F10</th>\n",
       "    </tr>\n",
       "  </thead>\n",
       "  <tbody>\n",
       "    <tr>\n",
       "      <th>0</th>\n",
       "      <td>0.266074</td>\n",
       "      <td>-0.165620</td>\n",
       "      <td>0.320980</td>\n",
       "      <td>0.483299</td>\n",
       "      <td>0.172340</td>\n",
       "      <td>0.273364</td>\n",
       "      <td>0.371178</td>\n",
       "      <td>0.929823</td>\n",
       "      <td>0.251173</td>\n",
       "      <td>0.159345</td>\n",
       "    </tr>\n",
       "    <tr>\n",
       "      <th>1</th>\n",
       "      <td>0.130292</td>\n",
       "      <td>0.870736</td>\n",
       "      <td>-3.210528</td>\n",
       "      <td>0.062493</td>\n",
       "      <td>0.261718</td>\n",
       "      <td>1.436060</td>\n",
       "      <td>1.465940</td>\n",
       "      <td>0.636203</td>\n",
       "      <td>0.282354</td>\n",
       "      <td>0.515587</td>\n",
       "    </tr>\n",
       "    <tr>\n",
       "      <th>2</th>\n",
       "      <td>-0.116585</td>\n",
       "      <td>0.069915</td>\n",
       "      <td>0.068476</td>\n",
       "      <td>-0.783147</td>\n",
       "      <td>0.261718</td>\n",
       "      <td>0.439463</td>\n",
       "      <td>-0.081827</td>\n",
       "      <td>-0.888236</td>\n",
       "      <td>-0.123005</td>\n",
       "      <td>0.582939</td>\n",
       "    </tr>\n",
       "    <tr>\n",
       "      <th>3</th>\n",
       "      <td>0.031541</td>\n",
       "      <td>0.297600</td>\n",
       "      <td>-3.210528</td>\n",
       "      <td>-0.583590</td>\n",
       "      <td>-0.721442</td>\n",
       "      <td>-0.307984</td>\n",
       "      <td>0.710932</td>\n",
       "      <td>1.051693</td>\n",
       "      <td>0.594169</td>\n",
       "      <td>-0.533994</td>\n",
       "    </tr>\n",
       "    <tr>\n",
       "      <th>4</th>\n",
       "      <td>0.229043</td>\n",
       "      <td>0.807926</td>\n",
       "      <td>-0.052442</td>\n",
       "      <td>0.082634</td>\n",
       "      <td>0.261718</td>\n",
       "      <td>0.148790</td>\n",
       "      <td>0.635431</td>\n",
       "      <td>0.051062</td>\n",
       "      <td>0.032902</td>\n",
       "      <td>-0.086652</td>\n",
       "    </tr>\n",
       "    <tr>\n",
       "      <th>...</th>\n",
       "      <td>...</td>\n",
       "      <td>...</td>\n",
       "      <td>...</td>\n",
       "      <td>...</td>\n",
       "      <td>...</td>\n",
       "      <td>...</td>\n",
       "      <td>...</td>\n",
       "      <td>...</td>\n",
       "      <td>...</td>\n",
       "      <td>...</td>\n",
       "    </tr>\n",
       "    <tr>\n",
       "      <th>10425</th>\n",
       "      <td>0.080916</td>\n",
       "      <td>0.588093</td>\n",
       "      <td>0.015130</td>\n",
       "      <td>0.002250</td>\n",
       "      <td>0.261718</td>\n",
       "      <td>-0.557133</td>\n",
       "      <td>0.371178</td>\n",
       "      <td>0.932346</td>\n",
       "      <td>0.282354</td>\n",
       "      <td>-0.580141</td>\n",
       "    </tr>\n",
       "    <tr>\n",
       "      <th>10426</th>\n",
       "      <td>0.253730</td>\n",
       "      <td>-0.338346</td>\n",
       "      <td>0.352988</td>\n",
       "      <td>-1.154243</td>\n",
       "      <td>0.172340</td>\n",
       "      <td>-0.557133</td>\n",
       "      <td>0.257927</td>\n",
       "      <td>0.348428</td>\n",
       "      <td>0.032902</td>\n",
       "      <td>-0.527134</td>\n",
       "    </tr>\n",
       "    <tr>\n",
       "      <th>10427</th>\n",
       "      <td>0.229043</td>\n",
       "      <td>-0.000745</td>\n",
       "      <td>0.171611</td>\n",
       "      <td>-0.002793</td>\n",
       "      <td>0.261718</td>\n",
       "      <td>0.688613</td>\n",
       "      <td>0.295677</td>\n",
       "      <td>-1.088486</td>\n",
       "      <td>-0.590727</td>\n",
       "      <td>0.580142</td>\n",
       "    </tr>\n",
       "    <tr>\n",
       "      <th>10428</th>\n",
       "      <td>-0.301743</td>\n",
       "      <td>0.352558</td>\n",
       "      <td>0.288973</td>\n",
       "      <td>1.638181</td>\n",
       "      <td>0.261718</td>\n",
       "      <td>0.688613</td>\n",
       "      <td>0.069175</td>\n",
       "      <td>0.502761</td>\n",
       "      <td>0.625350</td>\n",
       "      <td>0.718969</td>\n",
       "    </tr>\n",
       "    <tr>\n",
       "      <th>10429</th>\n",
       "      <td>-0.104241</td>\n",
       "      <td>-1.037102</td>\n",
       "      <td>0.388552</td>\n",
       "      <td>-1.099311</td>\n",
       "      <td>0.172340</td>\n",
       "      <td>-0.307984</td>\n",
       "      <td>0.786433</td>\n",
       "      <td>-1.337547</td>\n",
       "      <td>0.999528</td>\n",
       "      <td>-0.551063</td>\n",
       "    </tr>\n",
       "  </tbody>\n",
       "</table>\n",
       "<p>10430 rows × 10 columns</p>\n",
       "</div>"
      ],
      "text/plain": [
       "             F1        F2        F3        F4        F5        F6        F7  \\\n",
       "0      0.266074 -0.165620  0.320980  0.483299  0.172340  0.273364  0.371178   \n",
       "1      0.130292  0.870736 -3.210528  0.062493  0.261718  1.436060  1.465940   \n",
       "2     -0.116585  0.069915  0.068476 -0.783147  0.261718  0.439463 -0.081827   \n",
       "3      0.031541  0.297600 -3.210528 -0.583590 -0.721442 -0.307984  0.710932   \n",
       "4      0.229043  0.807926 -0.052442  0.082634  0.261718  0.148790  0.635431   \n",
       "...         ...       ...       ...       ...       ...       ...       ...   \n",
       "10425  0.080916  0.588093  0.015130  0.002250  0.261718 -0.557133  0.371178   \n",
       "10426  0.253730 -0.338346  0.352988 -1.154243  0.172340 -0.557133  0.257927   \n",
       "10427  0.229043 -0.000745  0.171611 -0.002793  0.261718  0.688613  0.295677   \n",
       "10428 -0.301743  0.352558  0.288973  1.638181  0.261718  0.688613  0.069175   \n",
       "10429 -0.104241 -1.037102  0.388552 -1.099311  0.172340 -0.307984  0.786433   \n",
       "\n",
       "             F8        F9       F10  \n",
       "0      0.929823  0.251173  0.159345  \n",
       "1      0.636203  0.282354  0.515587  \n",
       "2     -0.888236 -0.123005  0.582939  \n",
       "3      1.051693  0.594169 -0.533994  \n",
       "4      0.051062  0.032902 -0.086652  \n",
       "...         ...       ...       ...  \n",
       "10425  0.932346  0.282354 -0.580141  \n",
       "10426  0.348428  0.032902 -0.527134  \n",
       "10427 -1.088486 -0.590727  0.580142  \n",
       "10428  0.502761  0.625350  0.718969  \n",
       "10429 -1.337547  0.999528 -0.551063  \n",
       "\n",
       "[10430 rows x 10 columns]"
      ]
     },
     "execution_count": 28,
     "metadata": {},
     "output_type": "execute_result"
    }
   ],
   "source": [
    "train_X"
   ]
  },
  {
   "cell_type": "code",
   "execution_count": 29,
   "metadata": {},
   "outputs": [
    {
     "data": {
      "text/plain": [
       "array([[ 2.660740e-01, -1.656200e-01,  3.209800e-01,  4.832990e-01,\n",
       "         1.723400e-01],\n",
       "       [ 1.302920e-01,  8.707360e-01, -3.210528e+00,  6.249300e-02,\n",
       "         2.617180e-01],\n",
       "       [-1.165850e-01,  6.991500e-02,  6.847600e-02, -7.831470e-01,\n",
       "         2.617180e-01],\n",
       "       ...,\n",
       "       [ 2.290430e-01, -7.450000e-04,  1.716110e-01, -2.793000e-03,\n",
       "         2.617180e-01],\n",
       "       [-3.017430e-01,  3.525580e-01,  2.889730e-01,  1.638181e+00,\n",
       "         2.617180e-01],\n",
       "       [-1.042410e-01, -1.037102e+00,  3.885520e-01, -1.099311e+00,\n",
       "         1.723400e-01]])"
      ]
     },
     "execution_count": 29,
     "metadata": {},
     "output_type": "execute_result"
    }
   ],
   "source": [
    "X_new"
   ]
  },
  {
   "cell_type": "code",
   "execution_count": 18,
   "metadata": {},
   "outputs": [
    {
     "data": {
      "image/png": "[encoded data removed]",
      "text/plain": [
       "<Figure size 432x288 with 1 Axes>"
      ]
     },
     "metadata": {
      "needs_background": "light"
     },
     "output_type": "display_data"
    }
   ],
   "source": [
    "#std = np.std([tree.feature_importances_ for tree in tree.estimators_],axis=0)\n",
    "indices = np.argsort(importances)[::-1]\n",
    "plt.figure()\n",
    "plt.title(\"Feature importances\")\n",
    "plt.bar(range(train_X.shape[1]), importances[indices],\n",
    "        color=\"r\", align=\"center\")\n",
    "plt.xticks(range(train_X.shape[1]), indices)\n",
    "plt.xlim([-1, train_X.shape[1]])\n",
    "plt.show()"
   ]
  },
  {
   "cell_type": "code",
   "execution_count": 193,
   "metadata": {},
   "outputs": [
    {
     "data": {
      "text/plain": [
       "<matplotlib.axes._subplots.AxesSubplot at 0x1783f780b08>"
      ]
     },
     "execution_count": 193,
     "metadata": {},
     "output_type": "execute_result"
    },
    {
     "data": {
      "image/png": "[encoded data removed]",
      "text/plain": [
       "<Figure size 1440x1440 with 2 Axes>"
      ]
     },
     "metadata": {},
     "output_type": "display_data"
    }
   ],
   "source": [
    "import seaborn as sn\n",
    "import pandas as pd\n",
    "import matplotlib.pyplot as plt\n",
    "\n",
    "df_cm = pd.DataFrame(confusion_matrix(test_y, test_y_predicted), index = [i for i in \"ABCDEFGHIWXY\"],\n",
    "                  columns = [i for i in \"ABCDEFGHIWXY\"])\n",
    "plt.figure(figsize = (20,20))\n",
    "sn.set(font_scale=2.0)\n",
    "sn.heatmap(df_cm, annot=True, fmt='g')\n"
   ]
  },
  {
   "cell_type": "code",
   "execution_count": 122,
   "metadata": {},
   "outputs": [
    {
     "name": "stdout",
     "output_type": "stream",
     "text": [
      "0.9716393599693398\n"
     ]
    }
   ],
   "source": [
    "from sklearn import tree\n",
    "tree = tree.DecisionTreeClassifier()\n",
    "tree = tree.fit(train_X, train_y)\n",
    "test_y_predicted = tree.predict(test_X)\n",
    "accuracy = metrics.accuracy_score(test_y, test_y_predicted)\n",
    "print(accuracy)"
   ]
  },
  {
   "cell_type": "code",
   "execution_count": 172,
   "metadata": {},
   "outputs": [
    {
     "name": "stdout",
     "output_type": "stream",
     "text": [
      "0.9504646929194213\n"
     ]
    }
   ],
   "source": [
    "from sklearn.ensemble import GradientBoostingClassifier\n",
    "clf = GradientBoostingClassifier(random_state=0).fit(train_X, train_y)\n",
    "test_y_predicted = clf.predict(test_X)\n",
    "accuracy = metrics.accuracy_score(test_y, test_y_predicted)\n",
    "print(accuracy)"
   ]
  },
  {
   "cell_type": "code",
   "execution_count": 176,
   "metadata": {},
   "outputs": [
    {
     "name": "stdout",
     "output_type": "stream",
     "text": [
      "0.46047714860592126\n"
     ]
    }
   ],
   "source": [
    "from sklearn.linear_model import SGDClassifier\n",
    "clf = SGDClassifier(max_iter=1000, tol=1e-3).fit(train_X, train_y)\n",
    "test_y_predicted = clf.predict(test_X)\n",
    "accuracy = metrics.accuracy_score(test_y, test_y_predicted)\n",
    "print(accuracy)"
   ]
  },
  {
   "cell_type": "code",
   "execution_count": 179,
   "metadata": {},
   "outputs": [
    {
     "name": "stdout",
     "output_type": "stream",
     "text": [
      "0.5158570470441698\n"
     ]
    },
    {
     "name": "stderr",
     "output_type": "stream",
     "text": [
      "C:\\Anaconda\\lib\\site-packages\\sklearn\\svm\\_base.py:947: ConvergenceWarning: Liblinear failed to converge, increase the number of iterations.\n",
      "  \"the number of iterations.\", ConvergenceWarning)\n"
     ]
    }
   ],
   "source": [
    "from sklearn.svm import LinearSVC\n",
    "clf = LinearSVC().fit(train_X, train_y)\n",
    "test_y_predicted = clf.predict(test_X)\n",
    "accuracy = metrics.accuracy_score(test_y, test_y_predicted)\n",
    "print(accuracy)"
   ]
  },
  {
   "cell_type": "raw",
   "metadata": {},
   "source": [
    "\n"
   ]
  },
  {
   "cell_type": "code",
   "execution_count": 61,
   "metadata": {},
   "outputs": [
    {
     "name": "stdout",
     "output_type": "stream",
     "text": [
      "President 1: Washington\n",
      "President 2: Adams\n",
      "President 3: Jefferson\n",
      "President 4: Madison\n",
      "President 5: Monroe\n",
      "President 6: Adams\n",
      "President 7: Jackson\n"
     ]
    }
   ],
   "source": [
    "presidents = [\"Washington\", \"Adams\", \"Jefferson\", \"Madison\", \"Monroe\", \"Adams\", \"Jackson\"]\n",
    "for num, name in enumerate(presidents, start=1):\n",
    "    print(\"President {}: {}\".format(num, name))\n"
   ]
  },
  {
   "cell_type": "code",
   "execution_count": 112,
   "metadata": {},
   "outputs": [
    {
     "name": "stdout",
     "output_type": "stream",
     "text": [
      "       0  1  2  3  4  5  6  7  8  9  10  11\n",
      "0      0  0  0  0  0  0  0  0  0  0   0   0\n",
      "1      0  0  0  0  0  0  0  0  0  0   0   0\n",
      "2      0  0  0  0  0  0  0  0  0  0   0   0\n",
      "3      0  0  0  0  0  0  0  0  0  0   0   0\n",
      "4      0  0  0  0  0  0  0  0  0  0   0   0\n",
      "...   .. .. .. .. .. .. .. .. .. ..  ..  ..\n",
      "10425  0  0  0  0  0  0  0  0  0  0   0   0\n",
      "10426  0  0  0  0  0  0  0  0  0  0   0   0\n",
      "10427  0  0  0  0  0  0  0  0  0  0   0   0\n",
      "10428  0  0  0  0  0  0  0  0  0  0   0   0\n",
      "10429  0  0  0  0  0  0  0  0  0  0   0   0\n",
      "\n",
      "[10430 rows x 12 columns]\n",
      "0\n",
      "0\n",
      "0\n",
      "0\n",
      "1\n",
      "0\n",
      "0\n",
      "0\n",
      "0\n",
      "0\n",
      "0\n",
      "0\n"
     ]
    },
    {
     "data": {
      "text/html": [
       "<div>\n",
       "<style scoped>\n",
       "    .dataframe tbody tr th:only-of-type {\n",
       "        vertical-align: middle;\n",
       "    }\n",
       "\n",
       "    .dataframe tbody tr th {\n",
       "        vertical-align: top;\n",
       "    }\n",
       "\n",
       "    .dataframe thead th {\n",
       "        text-align: right;\n",
       "    }\n",
       "</style>\n",
       "<table border=\"1\" class=\"dataframe\">\n",
       "  <thead>\n",
       "    <tr style=\"text-align: right;\">\n",
       "      <th></th>\n",
       "      <th>0</th>\n",
       "      <th>1</th>\n",
       "      <th>2</th>\n",
       "      <th>3</th>\n",
       "      <th>4</th>\n",
       "      <th>5</th>\n",
       "      <th>6</th>\n",
       "      <th>7</th>\n",
       "      <th>8</th>\n",
       "      <th>9</th>\n",
       "      <th>10</th>\n",
       "      <th>11</th>\n",
       "    </tr>\n",
       "  </thead>\n",
       "  <tbody>\n",
       "    <tr>\n",
       "      <th>0</th>\n",
       "      <td>1</td>\n",
       "      <td>0</td>\n",
       "      <td>0</td>\n",
       "      <td>0</td>\n",
       "      <td>0</td>\n",
       "      <td>0</td>\n",
       "      <td>0</td>\n",
       "      <td>0</td>\n",
       "      <td>0</td>\n",
       "      <td>0</td>\n",
       "      <td>0</td>\n",
       "      <td>0</td>\n",
       "    </tr>\n",
       "    <tr>\n",
       "      <th>1</th>\n",
       "      <td>1</td>\n",
       "      <td>0</td>\n",
       "      <td>0</td>\n",
       "      <td>0</td>\n",
       "      <td>0</td>\n",
       "      <td>0</td>\n",
       "      <td>0</td>\n",
       "      <td>0</td>\n",
       "      <td>0</td>\n",
       "      <td>0</td>\n",
       "      <td>0</td>\n",
       "      <td>0</td>\n",
       "    </tr>\n",
       "    <tr>\n",
       "      <th>2</th>\n",
       "      <td>1</td>\n",
       "      <td>0</td>\n",
       "      <td>0</td>\n",
       "      <td>0</td>\n",
       "      <td>0</td>\n",
       "      <td>0</td>\n",
       "      <td>0</td>\n",
       "      <td>0</td>\n",
       "      <td>0</td>\n",
       "      <td>0</td>\n",
       "      <td>0</td>\n",
       "      <td>0</td>\n",
       "    </tr>\n",
       "    <tr>\n",
       "      <th>3</th>\n",
       "      <td>1</td>\n",
       "      <td>0</td>\n",
       "      <td>0</td>\n",
       "      <td>0</td>\n",
       "      <td>0</td>\n",
       "      <td>0</td>\n",
       "      <td>0</td>\n",
       "      <td>0</td>\n",
       "      <td>0</td>\n",
       "      <td>0</td>\n",
       "      <td>0</td>\n",
       "      <td>0</td>\n",
       "    </tr>\n",
       "    <tr>\n",
       "      <th>4</th>\n",
       "      <td>0</td>\n",
       "      <td>0</td>\n",
       "      <td>0</td>\n",
       "      <td>0</td>\n",
       "      <td>0</td>\n",
       "      <td>1</td>\n",
       "      <td>0</td>\n",
       "      <td>0</td>\n",
       "      <td>0</td>\n",
       "      <td>0</td>\n",
       "      <td>0</td>\n",
       "      <td>0</td>\n",
       "    </tr>\n",
       "    <tr>\n",
       "      <th>...</th>\n",
       "      <td>...</td>\n",
       "      <td>...</td>\n",
       "      <td>...</td>\n",
       "      <td>...</td>\n",
       "      <td>...</td>\n",
       "      <td>...</td>\n",
       "      <td>...</td>\n",
       "      <td>...</td>\n",
       "      <td>...</td>\n",
       "      <td>...</td>\n",
       "      <td>...</td>\n",
       "      <td>...</td>\n",
       "    </tr>\n",
       "    <tr>\n",
       "      <th>10425</th>\n",
       "      <td>0</td>\n",
       "      <td>0</td>\n",
       "      <td>0</td>\n",
       "      <td>0</td>\n",
       "      <td>0</td>\n",
       "      <td>1</td>\n",
       "      <td>0</td>\n",
       "      <td>0</td>\n",
       "      <td>0</td>\n",
       "      <td>0</td>\n",
       "      <td>0</td>\n",
       "      <td>0</td>\n",
       "    </tr>\n",
       "    <tr>\n",
       "      <th>10426</th>\n",
       "      <td>0</td>\n",
       "      <td>0</td>\n",
       "      <td>0</td>\n",
       "      <td>0</td>\n",
       "      <td>0</td>\n",
       "      <td>1</td>\n",
       "      <td>0</td>\n",
       "      <td>0</td>\n",
       "      <td>0</td>\n",
       "      <td>0</td>\n",
       "      <td>0</td>\n",
       "      <td>0</td>\n",
       "    </tr>\n",
       "    <tr>\n",
       "      <th>10427</th>\n",
       "      <td>1</td>\n",
       "      <td>0</td>\n",
       "      <td>0</td>\n",
       "      <td>0</td>\n",
       "      <td>0</td>\n",
       "      <td>0</td>\n",
       "      <td>0</td>\n",
       "      <td>0</td>\n",
       "      <td>0</td>\n",
       "      <td>0</td>\n",
       "      <td>0</td>\n",
       "      <td>0</td>\n",
       "    </tr>\n",
       "    <tr>\n",
       "      <th>10428</th>\n",
       "      <td>0</td>\n",
       "      <td>0</td>\n",
       "      <td>0</td>\n",
       "      <td>0</td>\n",
       "      <td>1</td>\n",
       "      <td>0</td>\n",
       "      <td>0</td>\n",
       "      <td>0</td>\n",
       "      <td>0</td>\n",
       "      <td>0</td>\n",
       "      <td>0</td>\n",
       "      <td>0</td>\n",
       "    </tr>\n",
       "    <tr>\n",
       "      <th>10429</th>\n",
       "      <td>0</td>\n",
       "      <td>0</td>\n",
       "      <td>0</td>\n",
       "      <td>0</td>\n",
       "      <td>0</td>\n",
       "      <td>0</td>\n",
       "      <td>0</td>\n",
       "      <td>0</td>\n",
       "      <td>0</td>\n",
       "      <td>0</td>\n",
       "      <td>1</td>\n",
       "      <td>0</td>\n",
       "    </tr>\n",
       "  </tbody>\n",
       "</table>\n",
       "<p>10430 rows × 12 columns</p>\n",
       "</div>"
      ],
      "text/plain": [
       "       0  1  2  3  4  5  6  7  8  9  10  11\n",
       "0      1  0  0  0  0  0  0  0  0  0   0   0\n",
       "1      1  0  0  0  0  0  0  0  0  0   0   0\n",
       "2      1  0  0  0  0  0  0  0  0  0   0   0\n",
       "3      1  0  0  0  0  0  0  0  0  0   0   0\n",
       "4      0  0  0  0  0  1  0  0  0  0   0   0\n",
       "...   .. .. .. .. .. .. .. .. .. ..  ..  ..\n",
       "10425  0  0  0  0  0  1  0  0  0  0   0   0\n",
       "10426  0  0  0  0  0  1  0  0  0  0   0   0\n",
       "10427  1  0  0  0  0  0  0  0  0  0   0   0\n",
       "10428  0  0  0  0  1  0  0  0  0  0   0   0\n",
       "10429  0  0  0  0  0  0  0  0  0  0   1   0\n",
       "\n",
       "[10430 rows x 12 columns]"
      ]
     },
     "execution_count": 112,
     "metadata": {},
     "output_type": "execute_result"
    }
   ],
   "source": [
    "train_y\n",
    "col_names = ['A', 'B', 'C', 'D', 'E','F', 'G', 'H', 'I', 'W', 'X', 'Y']\n",
    "\n",
    "df = pd.DataFrame(0,index=range(len(train_y)),columns=range(len(col_names)))\n",
    "print(df)\n",
    "for i, name_i in enumerate(train_y, start=0):\n",
    "    for y, name_y in enumerate(range(len(col_names)), start=0):\n",
    "        if name_i==str(col_names[name_y]):\n",
    "            df.at[i,name_y] = 1\n",
    "            \n",
    "#df.at[1,1] = 1\n",
    "\n",
    "for i in range(len(col_names)):\n",
    "    print(df.at[10428,i])\n",
    "df\n",
    "#(df.iloc[1])\n",
    "#type(train_y)"
   ]
  },
  {
   "cell_type": "code",
   "execution_count": 162,
   "metadata": {
    "scrolled": true
   },
   "outputs": [
    {
     "name": "stdout",
     "output_type": "stream",
     "text": [
      "Model: \"sequential_157\"\n",
      "_________________________________________________________________\n",
      "Layer (type)                 Output Shape              Param #   \n",
      "=================================================================\n",
      "dense_422 (Dense)            (None, 20)                220       \n",
      "_________________________________________________________________\n",
      "dense_423 (Dense)            (None, 20)                420       \n",
      "_________________________________________________________________\n",
      "dense_424 (Dense)            (None, 12)                252       \n",
      "=================================================================\n",
      "Total params: 892\n",
      "Trainable params: 892\n",
      "Non-trainable params: 0\n",
      "_________________________________________________________________\n",
      "Epoch 1/10\n",
      "8344/8344 [==============================] - 3s 380us/step - loss: 0.2051 - accuracy: 0.9256\n",
      "Epoch 2/10\n",
      "8344/8344 [==============================] - 3s 348us/step - loss: 0.1611 - accuracy: 0.9367\n",
      "Epoch 3/10\n",
      "8344/8344 [==============================] - 3s 345us/step - loss: 0.1492 - accuracy: 0.9402\n",
      "Epoch 4/10\n",
      "8344/8344 [==============================] - 3s 343us/step - loss: 0.1414 - accuracy: 0.9435\n",
      "Epoch 5/10\n",
      "8344/8344 [==============================] - 3s 359us/step - loss: 0.1355 - accuracy: 0.9458\n",
      "Epoch 6/10\n",
      "8344/8344 [==============================] - 3s 348us/step - loss: 0.1320 - accuracy: 0.9472\n",
      "Epoch 7/10\n",
      "8344/8344 [==============================] - 3s 349us/step - loss: 0.1295 - accuracy: 0.9481\n",
      "Epoch 8/10\n",
      "8344/8344 [==============================] - 3s 349us/step - loss: 0.1266 - accuracy: 0.9494\n",
      "Epoch 9/10\n",
      "8344/8344 [==============================] - 3s 343us/step - loss: 0.1251 - accuracy: 0.9499\n",
      "Epoch 10/10\n",
      "8344/8344 [==============================] - 3s 373us/step - loss: 0.1233 - accuracy: 0.9505\n",
      "2086/2086 [==============================] - 0s 197us/step\n",
      "Model: \"sequential_158\"\n",
      "_________________________________________________________________\n",
      "Layer (type)                 Output Shape              Param #   \n",
      "=================================================================\n",
      "dense_425 (Dense)            (None, 20)                220       \n",
      "_________________________________________________________________\n",
      "dense_426 (Dense)            (None, 20)                420       \n",
      "_________________________________________________________________\n",
      "dense_427 (Dense)            (None, 12)                252       \n",
      "=================================================================\n",
      "Total params: 892\n",
      "Trainable params: 892\n",
      "Non-trainable params: 0\n",
      "_________________________________________________________________\n",
      "Epoch 1/10\n",
      "8344/8344 [==============================] - 3s 386us/step - loss: 0.1978 - accuracy: 0.9276\n",
      "Epoch 2/10\n",
      "8344/8344 [==============================] - 3s 368us/step - loss: 0.1544 - accuracy: 0.9395\n",
      "Epoch 3/10\n",
      "8344/8344 [==============================] - 3s 384us/step - loss: 0.1436 - accuracy: 0.9431\n",
      "Epoch 4/10\n",
      "8344/8344 [==============================] - 3s 389us/step - loss: 0.1360 - accuracy: 0.9454\n",
      "Epoch 5/10\n",
      "8344/8344 [==============================] - 3s 349us/step - loss: 0.1306 - accuracy: 0.9475\n",
      "Epoch 6/10\n",
      "8344/8344 [==============================] - 3s 338us/step - loss: 0.1261 - accuracy: 0.9487\n",
      "Epoch 7/10\n",
      "8344/8344 [==============================] - 3s 348us/step - loss: 0.1227 - accuracy: 0.9493\n",
      "Epoch 8/10\n",
      "8344/8344 [==============================] - 3s 334us/step - loss: 0.1200 - accuracy: 0.9514\n",
      "Epoch 9/10\n",
      "8344/8344 [==============================] - 3s 348us/step - loss: 0.1178 - accuracy: 0.9517\n",
      "Epoch 10/10\n",
      "8344/8344 [==============================] - 3s 330us/step - loss: 0.1154 - accuracy: 0.9529\n",
      "2086/2086 [==============================] - 0s 149us/step\n",
      "Model: \"sequential_159\"\n",
      "_________________________________________________________________\n",
      "Layer (type)                 Output Shape              Param #   \n",
      "=================================================================\n",
      "dense_428 (Dense)            (None, 20)                220       \n",
      "_________________________________________________________________\n",
      "dense_429 (Dense)            (None, 20)                420       \n",
      "_________________________________________________________________\n",
      "dense_430 (Dense)            (None, 12)                252       \n",
      "=================================================================\n",
      "Total params: 892\n",
      "Trainable params: 892\n",
      "Non-trainable params: 0\n",
      "_________________________________________________________________\n",
      "Epoch 1/10\n",
      "8344/8344 [==============================] - 3s 351us/step - loss: 0.2065 - accuracy: 0.9266\n",
      "Epoch 2/10\n",
      "8344/8344 [==============================] - 3s 339us/step - loss: 0.1614 - accuracy: 0.9369\n",
      "Epoch 3/10\n",
      "8344/8344 [==============================] - 3s 363us/step - loss: 0.1496 - accuracy: 0.9401\n",
      "Epoch 4/10\n",
      "8344/8344 [==============================] - 3s 399us/step - loss: 0.1418 - accuracy: 0.9427\n",
      "Epoch 5/10\n",
      "8344/8344 [==============================] - 3s 344us/step - loss: 0.1351 - accuracy: 0.9450\n",
      "Epoch 6/10\n",
      "8344/8344 [==============================] - 3s 419us/step - loss: 0.1293 - accuracy: 0.9470\n",
      "Epoch 7/10\n",
      "8344/8344 [==============================] - 3s 317us/step - loss: 0.1250 - accuracy: 0.9484\n",
      "Epoch 8/10\n",
      "8344/8344 [==============================] - 3s 366us/step - loss: 0.1218 - accuracy: 0.9499\n",
      "Epoch 9/10\n",
      "8344/8344 [==============================] - 3s 309us/step - loss: 0.1191 - accuracy: 0.9502\n",
      "Epoch 10/10\n",
      "8344/8344 [==============================] - 3s 309us/step - loss: 0.1169 - accuracy: 0.9513\n",
      "2086/2086 [==============================] - 0s 132us/step\n",
      "Model: \"sequential_160\"\n",
      "_________________________________________________________________\n",
      "Layer (type)                 Output Shape              Param #   \n",
      "=================================================================\n",
      "dense_431 (Dense)            (None, 20)                220       \n",
      "_________________________________________________________________\n",
      "dense_432 (Dense)            (None, 20)                420       \n",
      "_________________________________________________________________\n",
      "dense_433 (Dense)            (None, 12)                252       \n",
      "=================================================================\n",
      "Total params: 892\n",
      "Trainable params: 892\n",
      "Non-trainable params: 0\n",
      "_________________________________________________________________\n",
      "Epoch 1/10\n",
      "8344/8344 [==============================] - 3s 338us/step - loss: 0.1965 - accuracy: 0.9283\n",
      "Epoch 2/10\n",
      "8344/8344 [==============================] - 3s 352us/step - loss: 0.1603 - accuracy: 0.9369\n",
      "Epoch 3/10\n",
      "8344/8344 [==============================] - 3s 338us/step - loss: 0.1471 - accuracy: 0.9406\n",
      "Epoch 4/10\n",
      "8344/8344 [==============================] - 3s 352us/step - loss: 0.1378 - accuracy: 0.9446\n",
      "Epoch 5/10\n",
      "8344/8344 [==============================] - 3s 320us/step - loss: 0.1311 - accuracy: 0.9472\n",
      "Epoch 6/10\n",
      "8344/8344 [==============================] - 2s 299us/step - loss: 0.1259 - accuracy: 0.9483\n",
      "Epoch 7/10\n",
      "8344/8344 [==============================] - 3s 303us/step - loss: 0.1225 - accuracy: 0.9497\n",
      "Epoch 8/10\n",
      "8344/8344 [==============================] - 3s 330us/step - loss: 0.1193 - accuracy: 0.9514\n",
      "Epoch 9/10\n",
      "8344/8344 [==============================] - 3s 330us/step - loss: 0.1171 - accuracy: 0.9521\n",
      "Epoch 10/10\n",
      "8344/8344 [==============================] - 3s 343us/step - loss: 0.1154 - accuracy: 0.9532\n",
      "2086/2086 [==============================] - 0s 154us/step\n",
      "Model: \"sequential_161\"\n",
      "_________________________________________________________________\n",
      "Layer (type)                 Output Shape              Param #   \n",
      "=================================================================\n",
      "dense_434 (Dense)            (None, 20)                220       \n",
      "_________________________________________________________________\n",
      "dense_435 (Dense)            (None, 20)                420       \n",
      "_________________________________________________________________\n",
      "dense_436 (Dense)            (None, 12)                252       \n",
      "=================================================================\n",
      "Total params: 892\n",
      "Trainable params: 892\n",
      "Non-trainable params: 0\n",
      "_________________________________________________________________\n",
      "Epoch 1/10\n",
      "8344/8344 [==============================] - 3s 363us/step - loss: 0.2019 - accuracy: 0.9261\n",
      "Epoch 2/10\n",
      "8344/8344 [==============================] - 3s 326us/step - loss: 0.1615 - accuracy: 0.9363\n",
      "Epoch 3/10\n",
      "8344/8344 [==============================] - 3s 316us/step - loss: 0.1508 - accuracy: 0.9389\n",
      "Epoch 4/10\n",
      "8344/8344 [==============================] - 3s 343us/step - loss: 0.1431 - accuracy: 0.9413\n",
      "Epoch 5/10\n",
      "8344/8344 [==============================] - 3s 342us/step - loss: 0.1357 - accuracy: 0.9440\n",
      "Epoch 6/10\n",
      "8344/8344 [==============================] - 3s 337us/step - loss: 0.1297 - accuracy: 0.9468\n",
      "Epoch 7/10\n",
      "8344/8344 [==============================] - 3s 343us/step - loss: 0.1253 - accuracy: 0.9484\n",
      "Epoch 8/10\n",
      "8344/8344 [==============================] - 3s 344us/step - loss: 0.1215 - accuracy: 0.9498\n",
      "Epoch 9/10\n",
      "8344/8344 [==============================] - 3s 347us/step - loss: 0.1187 - accuracy: 0.9511\n",
      "Epoch 10/10\n",
      "8344/8344 [==============================] - 3s 352us/step - loss: 0.1162 - accuracy: 0.9522\n",
      "2086/2086 [==============================] - ETA:  - 0s 149us/step\n",
      "0.9511664628982544\n"
     ]
    }
   ],
   "source": [
    "from keras.models import Sequential  \n",
    "from keras.layers import Dense, LeakyReLU\n",
    "from keras.wrappers.scikit_learn import KerasClassifier  \n",
    "from sklearn.model_selection import StratifiedKFold  \n",
    "from sklearn.model_selection import cross_val_score  \n",
    "import numpy  \n",
    "import pandas  \n",
    "# Function to create model, required for KerasClassifier  \n",
    "def create_model():  \n",
    "    # create model  \n",
    "    model = Sequential()  \n",
    "    model.add(Dense(20, input_dim=10, activation='relu'))  \n",
    "    model.add(Dense(20, activation='relu'))\n",
    "    model.add(Dense(12, activation='softmax'))\n",
    "    model.compile(loss='binary_crossentropy', optimizer='adam', metrics=['accuracy'])  \n",
    "    model.summary()\n",
    "    return model  \n",
    "  \n",
    "# fix random seed for reproducibility  \n",
    "seed = 7  \n",
    "numpy.random.seed(seed)  \n",
    "  \n",
    "# load pima indians dataset  \n",
    "#dataset = numpy.loadtxt(\"pima-indians-diabetes.csv\", delimiter=\",\")  \n",
    "  \n",
    "# split into input (X) and output (Y) variables  \n",
    "X = train_X\n",
    "Y = df \n",
    "  \n",
    "# create model  \n",
    "model = KerasClassifier(build_fn=create_model, epochs=10, batch_size=10)  \n",
    "  \n",
    "# evaluate using 10-fold cross validation  \n",
    "#kfold = StratifiedKFold(n_splits=10, shuffle=True, random_state=seed)  \n",
    "#results = cross_val_score(model, X, Y, cv=kfold)  \n",
    "results = cross_val_score(model, X, Y)  \n",
    "print(results.mean())  "
   ]
  }
 ],
 "metadata": {
  "kernelspec": {
   "display_name": "Python 3",
   "language": "python",
   "name": "python3"
  },
  "language_info": {
   "codemirror_mode": {
    "name": "ipython",
    "version": 3
   },
   "file_extension": ".py",
   "mimetype": "text/x-python",
   "name": "python",
   "nbconvert_exporter": "python",
   "pygments_lexer": "ipython3",
   "version": "3.7.4"
  }
 },
 "nbformat": 4,
 "nbformat_minor": 4
}
